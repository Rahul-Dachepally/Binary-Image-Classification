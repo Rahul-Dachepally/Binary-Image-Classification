{
 "cells": [
  {
   "cell_type": "code",
   "execution_count": null,
   "id": "8da7954a-8c9c-419b-964d-933d40d051a4",
   "metadata": {},
   "outputs": [],
   "source": [
    "import os\n",
    "import shutil\n",
    "import random\n",
    "\n",
    "# Set random seed for reproducibility\n",
    "random.seed(42)\n",
    "\n",
    "# Source directory\n",
    "source_dir = ''\n",
    "\n",
    "# Destination base directory\n",
    "dest_base = 'data'\n",
    "\n",
    "# Split ratios\n",
    "train_ratio = 0.7\n",
    "val_ratio = 0.15\n",
    "test_ratio = 0.15\n",
    "\n",
    "# Class folders\n",
    "classes = ['Cat', 'Dog']\n",
    "\n",
    "# Ensure destination folders exist\n",
    "for split in ['train', 'val', 'test']:\n",
    "    for cls in classes:\n",
    "        os.makedirs(os.path.join(dest_base, split, cls), exist_ok=True)\n",
    "\n",
    "# Function to split and move files\n",
    "def split_and_copy(class_name):\n",
    "    class_path = os.path.join(source_dir, class_name)\n",
    "    images = os.listdir(class_path)\n",
    "    random.shuffle(images)\n",
    "\n",
    "    total = len(images)\n",
    "    train_cut = int(total * train_ratio)\n",
    "    val_cut = train_cut + int(total * val_ratio)\n",
    "\n",
    "    splits = {\n",
    "        'train': images[:train_cut],\n",
    "        'val': images[train_cut:val_cut],\n",
    "        'test': images[val_cut:]\n",
    "    }\n",
    "\n",
    "    for split, split_images in splits.items():\n",
    "        for img in split_images:\n",
    "            src = os.path.join(class_path, img)\n",
    "            dst = os.path.join(dest_base, split, class_name, img)\n",
    "            shutil.copy2(src, dst)\n",
    "\n",
    "# Run the split for both Cat and Dog folders\n",
    "for cls in classes:\n",
    "    split_and_copy(cls)\n",
    "\n",
    "print(\"✅ Dataset split complete!\")\n"
   ]
  },
  {
   "cell_type": "code",
   "execution_count": 1,
   "id": "c244f397-3394-48a8-9e8a-3a8a57a75803",
   "metadata": {},
   "outputs": [
    {
     "name": "stdout",
     "output_type": "stream",
     "text": [
      "Removing corrupted file: data/train\\Cat\\666.jpg\n",
      "Removing corrupted file: data/train\\Cat\\Thumbs.db\n",
      "Removing corrupted file: data/train\\Dog\\11702.jpg\n"
     ]
    },
    {
     "name": "stderr",
     "output_type": "stream",
     "text": [
      "C:\\Users\\RAHUL DACHEPALLY\\AppData\\Local\\Programs\\Python\\Python312\\Lib\\site-packages\\PIL\\TiffImagePlugin.py:950: UserWarning: Truncated File Read\n",
      "  warnings.warn(str(msg))\n"
     ]
    },
    {
     "name": "stdout",
     "output_type": "stream",
     "text": [
      "Removing corrupted file: data/train\\Dog\\Thumbs.db\n",
      "✅ Removed 4 corrupted or invalid files from data/train\n",
      "✅ Removed 0 corrupted or invalid files from data/val\n"
     ]
    }
   ],
   "source": [
    "from PIL import Image, UnidentifiedImageError\n",
    "import os\n",
    "\n",
    "def clean_corrupted_images(folder):\n",
    "    removed = 0\n",
    "    for root, _, files in os.walk(folder):\n",
    "        for file in files:\n",
    "            path = os.path.join(root, file)\n",
    "            try:\n",
    "                img = Image.open(path)\n",
    "                img.verify()  # Validate if it's an actual image\n",
    "            except (UnidentifiedImageError, OSError):\n",
    "                print(f\"Removing corrupted file: {path}\")\n",
    "                os.remove(path)\n",
    "                removed += 1\n",
    "    print(f\"✅ Removed {removed} corrupted or invalid files from {folder}\")\n",
    "\n",
    "# Call it on both train and validation directories\n",
    "clean_corrupted_images('data/train')\n",
    "clean_corrupted_images('data/val')\n"
   ]
  },
  {
   "cell_type": "code",
   "execution_count": null,
   "id": "c02f2fcb-9627-4ec6-befe-dc5ff948f2ec",
   "metadata": {},
   "outputs": [],
   "source": []
  }
 ],
 "metadata": {
  "kernelspec": {
   "display_name": "Python 3 (ipykernel)",
   "language": "python",
   "name": "python3"
  },
  "language_info": {
   "codemirror_mode": {
    "name": "ipython",
    "version": 3
   },
   "file_extension": ".py",
   "mimetype": "text/x-python",
   "name": "python",
   "nbconvert_exporter": "python",
   "pygments_lexer": "ipython3",
   "version": "3.12.0"
  }
 },
 "nbformat": 4,
 "nbformat_minor": 5
}
