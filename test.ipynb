{
 "cells": [
  {
   "cell_type": "code",
   "execution_count": null,
   "id": "300063bb-5cee-46bb-89f5-4cefc37bff27",
   "metadata": {},
   "outputs": [
    {
     "name": "stderr",
     "output_type": "stream",
     "text": [
      "WARNING:absl:Compiled the loaded model, but the compiled metrics have yet to be built. `model.compile_metrics` will be empty until you train or evaluate the model.\n"
     ]
    },
    {
     "name": "stdout",
     "output_type": "stream",
     "text": [
      "✅ Model loaded.\n"
     ]
    }
   ],
   "source": [
    "MODEL_PATH = \"model/best_model.keras\"  # Path to your trained model\n",
    "\n",
    "model = tf.keras.models.load_model(MODEL_PATH)\n",
    "print(\"✅ Model loaded.\")"
   ]
  },
  {
   "cell_type": "code",
   "execution_count": null,
   "id": "74dd1efe-f821-4b2f-b549-9e02b07c55c4",
   "metadata": {},
   "outputs": [
    {
     "name": "stdout",
     "output_type": "stream",
     "text": [
      "🖼️ Loading image: gold.jpg\n",
      "🔍 Running prediction...\n",
      "\u001b[1m1/1\u001b[0m \u001b[32m━━━━━━━━━━━━━━━━━━━━\u001b[0m\u001b[37m\u001b[0m \u001b[1m0s\u001b[0m 147ms/step\n",
      "📊 Prediction probabilities: [[0.9998072]]\n",
      "✅ Predicted Class: Dog (1.00)\n"
     ]
    }
   ],
   "source": [
    "import numpy as np\n",
    "from tensorflow.keras.models import load_model\n",
    "from PIL import Image\n",
    "import sys\n",
    "import os\n",
    "\n",
    "IMAGE_PATH = \"gold.jpg\"     \n",
    "TARGET_SIZE = (128, 128)           \n",
    "CLASS_NAMES = [\"Cat\", \"Dog\"]       \n",
    "\n",
    "\n",
    "if not os.path.exists(IMAGE_PATH):\n",
    "    print(f\"❌ Error: File '{IMAGE_PATH}' not found.\")\n",
    "    sys.exit(1)\n",
    "\n",
    "print(f\"🖼️ Loading image: {IMAGE_PATH}\")\n",
    "img = Image.open(IMAGE_PATH).convert(\"RGB\")\n",
    "img = img.resize(TARGET_SIZE)\n",
    "\n",
    "img_array = np.array(img) / 255.0\n",
    "img_batch = np.expand_dims(img_array, axis=0)  # shape: (1, 128, 128, 3)\n",
    "\n",
    "\n",
    "print(\"🔍 Running prediction...\")\n",
    "preds = model.predict(img_batch)\n",
    "prob = preds[0][0]\n",
    "\n",
    "if prob >= 0.5:\n",
    "    predicted_class = CLASS_NAMES[1]  # Dog\n",
    "    confidence = prob\n",
    "else:\n",
    "    predicted_class = CLASS_NAMES[0]  # Cat\n",
    "    confidence = 1 - prob\n",
    "\n",
    "print(f\"📊 Prediction probabilities: {preds}\")\n",
    "print(f\"✅ Predicted Class: {predicted_class} ({confidence:.2f})\")\n"
   ]
  },
  {
   "cell_type": "code",
   "execution_count": null,
   "id": "46a2510f-b96d-4d33-af8c-1fdfbaf4d97a",
   "metadata": {},
   "outputs": [],
   "source": [
    "Desktop/Binary Classification/data/test/Dog/10058.jpg"
   ]
  }
 ],
 "metadata": {
  "kernelspec": {
   "display_name": "Python 3 (ipykernel)",
   "language": "python",
   "name": "python3"
  },
  "language_info": {
   "codemirror_mode": {
    "name": "ipython",
    "version": 3
   },
   "file_extension": ".py",
   "mimetype": "text/x-python",
   "name": "python",
   "nbconvert_exporter": "python",
   "pygments_lexer": "ipython3",
   "version": "3.12.0"
  }
 },
 "nbformat": 4,
 "nbformat_minor": 5
}
